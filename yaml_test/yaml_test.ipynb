{
 "cells": [
  {
   "cell_type": "code",
   "execution_count": null,
   "metadata": {},
   "outputs": [],
   "source": [
    "import yaml\n",
    "with open(\"D:\\workspace\\workspace\\pythontest\\pythontest\\yaml_test\\yaml_test.yaml\", 'r') as file:\n",
    "    data = yaml.safe_load(file)\n",
    "\n",
    "print(data['test_info'])\n",
    "print(data['test_info'][\"description2\"])"
   ]
  }
 ],
 "metadata": {
  "language_info": {
   "name": "python"
  }
 },
 "nbformat": 4,
 "nbformat_minor": 2
}
